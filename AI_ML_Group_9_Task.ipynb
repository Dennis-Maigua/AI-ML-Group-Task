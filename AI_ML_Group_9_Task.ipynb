{
  "nbformat": 4,
  "nbformat_minor": 0,
  "metadata": {
    "colab": {
      "name": "AI ML Group 9 Task.ipynb",
      "provenance": []
    },
    "kernelspec": {
      "name": "python3",
      "display_name": "Python 3"
    },
    "language_info": {
      "name": "python"
    }
  },
  "cells": [
    {
      "cell_type": "markdown",
      "metadata": {
        "id": "h2P7zUoIKIVQ"
      },
      "source": [
        "Backward Propagation"
      ]
    },
    {
      "cell_type": "code",
      "metadata": {
        "id": "TUCZijFi-mvC"
      },
      "source": [
        "import numpy as np"
      ],
      "execution_count": 37,
      "outputs": []
    },
    {
      "cell_type": "code",
      "metadata": {
        "id": "Px9d_bw09tQR"
      },
      "source": [
        "from numpy import array\n",
        "from keras.activations import sigmoid\n",
        "from keras.losses import mse"
      ],
      "execution_count": 38,
      "outputs": []
    },
    {
      "cell_type": "code",
      "metadata": {
        "id": "a07A2a_u-cSf"
      },
      "source": [
        "y_true=np.array([0.3428])\n",
        "y_pred=np.array([0.909])"
      ],
      "execution_count": 39,
      "outputs": []
    },
    {
      "cell_type": "code",
      "metadata": {
        "colab": {
          "base_uri": "https://localhost:8080/"
        },
        "id": "2Uf9wqCe_uBc",
        "outputId": "1daf60b6-b31b-48d5-c7de-a772dad4c02c"
      },
      "source": [
        "#k=mse(y_true,y_pred).numpy()\n",
        "#k"
      ],
      "execution_count": 41,
      "outputs": [
        {
          "output_type": "execute_result",
          "data": {
            "text/plain": [
              "0.32058244"
            ]
          },
          "metadata": {},
          "execution_count": 41
        }
      ]
    },
    {
      "cell_type": "code",
      "metadata": {
        "colab": {
          "base_uri": "https://localhost:8080/"
        },
        "id": "ymJKkYKggbpW",
        "outputId": "2baf1fff-7171-409b-e0db-80db38379d1b"
      },
      "source": [
        "output_error=y_pred-y_true\n",
        "output_error"
      ],
      "execution_count": 42,
      "outputs": [
        {
          "output_type": "execute_result",
          "data": {
            "text/plain": [
              "array([0.5662])"
            ]
          },
          "metadata": {},
          "execution_count": 42
        }
      ]
    },
    {
      "cell_type": "code",
      "metadata": {
        "colab": {
          "base_uri": "https://localhost:8080/"
        },
        "id": "K0quOrMEgwh5",
        "outputId": "140c762d-db14-41ee-f2c5-cb67ec2bee3c"
      },
      "source": [
        "output_delta=output_error*(y_true*(1-y_true))\n",
        "output_delta"
      ],
      "execution_count": 48,
      "outputs": [
        {
          "output_type": "execute_result",
          "data": {
            "text/plain": [
              "array([0.12755816])"
            ]
          },
          "metadata": {},
          "execution_count": 48
        }
      ]
    }
  ]
}