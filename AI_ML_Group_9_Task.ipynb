{
  "nbformat": 4,
  "nbformat_minor": 0,
  "metadata": {
    "colab": {
      "name": "AI ML Group 9 Task.ipynb",
      "provenance": []
    },
    "kernelspec": {
      "name": "python3",
      "display_name": "Python 3"
    },
    "language_info": {
      "name": "python"
    }
  },
  "cells": [
    {
      "cell_type": "code",
      "metadata": {
        "id": "TUCZijFi-mvC"
      },
      "source": [
        "import numpy as np"
      ],
      "execution_count": 82,
      "outputs": []
    },
    {
      "cell_type": "code",
      "metadata": {
        "id": "Px9d_bw09tQR"
      },
      "source": [
        "from numpy import array"
      ],
      "execution_count": 83,
      "outputs": []
    },
    {
      "cell_type": "markdown",
      "metadata": {
        "id": "cGilFCzDrS73"
      },
      "source": [
        "Error Computation"
      ]
    },
    {
      "cell_type": "code",
      "metadata": {
        "id": "a07A2a_u-cSf"
      },
      "source": [
        "y_true=np.array([0.3428])\n",
        "y_pred=np.array([0.909])"
      ],
      "execution_count": 84,
      "outputs": []
    },
    {
      "cell_type": "code",
      "metadata": {
        "colab": {
          "base_uri": "https://localhost:8080/"
        },
        "id": "ymJKkYKggbpW",
        "outputId": "646e923b-4dac-433f-dd91-506a512e2096"
      },
      "source": [
        "output_error=y_pred-y_true\n",
        "output_delta=output_error*(y_true*(1-y_true))\n",
        "output_delta"
      ],
      "execution_count": 85,
      "outputs": [
        {
          "output_type": "execute_result",
          "data": {
            "text/plain": [
              "array([0.12755816])"
            ]
          },
          "metadata": {},
          "execution_count": 85
        }
      ]
    },
    {
      "cell_type": "markdown",
      "metadata": {
        "id": "wrgSnxRtrYD4"
      },
      "source": [
        "Back Propagation"
      ]
    },
    {
      "cell_type": "code",
      "metadata": {
        "colab": {
          "base_uri": "https://localhost:8080/"
        },
        "id": "KYXbqFuPj05N",
        "outputId": "9171fba8-f257-4c4a-acfb-57955d6caa52"
      },
      "source": [
        "output_j=np.array([0.5788])\n",
        "delta_j=output_j*(1-output_j)\n",
        "error_j=output_delta*([0.5])*delta_j\n",
        "error_j"
      ],
      "execution_count": 86,
      "outputs": [
        {
          "output_type": "execute_result",
          "data": {
            "text/plain": [
              "array([0.01554874])"
            ]
          },
          "metadata": {},
          "execution_count": 86
        }
      ]
    },
    {
      "cell_type": "code",
      "metadata": {
        "colab": {
          "base_uri": "https://localhost:8080/"
        },
        "id": "7_zNPNq-qClX",
        "outputId": "83ef6d34-e91b-4135-e933-b350ca26a57e"
      },
      "source": [
        "output_i=np.array([0.534])\n",
        "delta_i=output_i*(1-output_i)\n",
        "error_i=output_delta*([0.5])*delta_i\n",
        "error_i"
      ],
      "execution_count": 87,
      "outputs": [
        {
          "output_type": "execute_result",
          "data": {
            "text/plain": [
              "array([0.01587104])"
            ]
          },
          "metadata": {},
          "execution_count": 87
        }
      ]
    },
    {
      "cell_type": "markdown",
      "metadata": {
        "id": "z0oRADk4q_P_"
      },
      "source": [
        "Weight Updates"
      ]
    }
  ]
}