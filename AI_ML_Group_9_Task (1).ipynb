{
  "nbformat": 4,
  "nbformat_minor": 0,
  "metadata": {
    "colab": {
      "name": "AI ML Group 9 Task.ipynb",
      "provenance": []
    },
    "kernelspec": {
      "name": "python3",
      "display_name": "Python 3"
    },
    "language_info": {
      "name": "python"
    }
  },
  "cells": [
    {
      "cell_type": "code",
      "metadata": {
        "id": "TUCZijFi-mvC"
      },
      "source": [
        "import numpy as np"
      ],
      "execution_count": 123,
      "outputs": []
    },
    {
      "cell_type": "code",
      "metadata": {
        "id": "Eaj0t-7qxENr"
      },
      "source": [
        "from numpy import array"
      ],
      "execution_count": 124,
      "outputs": []
    },
    {
      "cell_type": "code",
      "metadata": {
        "id": "a07A2a_u-cSf"
      },
      "source": [
        "y_true=np.array([0.3428])\n",
        "y_pred=np.array([0.909])"
      ],
      "execution_count": 125,
      "outputs": []
    },
    {
      "cell_type": "markdown",
      "metadata": {
        "id": "cGilFCzDrS73"
      },
      "source": [
        "Error Computation"
      ]
    },
    {
      "cell_type": "code",
      "metadata": {
        "colab": {
          "base_uri": "https://localhost:8080/"
        },
        "id": "ymJKkYKggbpW",
        "outputId": "0290ae8b-240f-442c-d044-81b73e17d800"
      },
      "source": [
        "output_error=y_pred-y_true\n",
        "output_delta=output_error*(y_true*(1-y_true))\n",
        "output_delta"
      ],
      "execution_count": 126,
      "outputs": [
        {
          "output_type": "execute_result",
          "data": {
            "text/plain": [
              "array([0.12755816])"
            ]
          },
          "metadata": {},
          "execution_count": 126
        }
      ]
    },
    {
      "cell_type": "markdown",
      "metadata": {
        "id": "wrgSnxRtrYD4"
      },
      "source": [
        "Back Propagation"
      ]
    },
    {
      "cell_type": "code",
      "metadata": {
        "colab": {
          "base_uri": "https://localhost:8080/"
        },
        "id": "KYXbqFuPj05N",
        "outputId": "0203ddb9-f7d4-43c5-9c50-da5cf48c915f"
      },
      "source": [
        "wjk=0.5\n",
        "output_j=0.5788\n",
        "delta_j=output_j*(1-output_j)\n",
        "error_j=output_delta*wjk*delta_j\n",
        "error_j"
      ],
      "execution_count": 127,
      "outputs": [
        {
          "output_type": "execute_result",
          "data": {
            "text/plain": [
              "array([0.01554874])"
            ]
          },
          "metadata": {},
          "execution_count": 127
        }
      ]
    },
    {
      "cell_type": "code",
      "metadata": {
        "colab": {
          "base_uri": "https://localhost:8080/"
        },
        "id": "7_zNPNq-qClX",
        "outputId": "f871c322-0483-413e-ba49-99d3d21ebf4f"
      },
      "source": [
        "wik=0.1\n",
        "output_i=0.534\n",
        "delta_i=output_i*(1-output_i)\n",
        "error_i=output_delta*wik*delta_i\n",
        "error_i"
      ],
      "execution_count": 128,
      "outputs": [
        {
          "output_type": "execute_result",
          "data": {
            "text/plain": [
              "array([0.00317421])"
            ]
          },
          "metadata": {},
          "execution_count": 128
        }
      ]
    },
    {
      "cell_type": "markdown",
      "metadata": {
        "id": "z0oRADk4q_P_"
      },
      "source": [
        "Weight Updates"
      ]
    },
    {
      "cell_type": "code",
      "metadata": {
        "colab": {
          "base_uri": "https://localhost:8080/"
        },
        "id": "iQVArOjNs0DI",
        "outputId": "ea1c9623-6228-43aa-cec6-4c65c657851a"
      },
      "source": [
        "n=0.03  #learning rate\n",
        "current_w=n*output_delta*y_true\n",
        "new_wjk=wjk+current_w\n",
        "new_wjk\n"
      ],
      "execution_count": 129,
      "outputs": [
        {
          "output_type": "execute_result",
          "data": {
            "text/plain": [
              "array([0.50131181])"
            ]
          },
          "metadata": {},
          "execution_count": 129
        }
      ]
    },
    {
      "cell_type": "code",
      "metadata": {
        "colab": {
          "base_uri": "https://localhost:8080/"
        },
        "id": "RPsY04otuG1Q",
        "outputId": "0b37b598-94fe-46cb-818a-b2fcdc9a058b"
      },
      "source": [
        "new_wik=wik+current_w\n",
        "new_wik"
      ],
      "execution_count": 130,
      "outputs": [
        {
          "output_type": "execute_result",
          "data": {
            "text/plain": [
              "array([0.10131181])"
            ]
          },
          "metadata": {},
          "execution_count": 130
        }
      ]
    }
  ]
}