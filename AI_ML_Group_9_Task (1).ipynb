{
  "nbformat": 4,
  "nbformat_minor": 0,
  "metadata": {
    "colab": {
      "name": "AI ML Group 9 Task.ipynb",
      "provenance": []
    },
    "kernelspec": {
      "name": "python3",
      "display_name": "Python 3"
    },
    "language_info": {
      "name": "python"
    }
  },
  "cells": [
    {
      "cell_type": "markdown",
      "metadata": {
        "id": "h2P7zUoIKIVQ"
      },
      "source": [
        "Backward Propagation"
      ]
    },
    {
      "cell_type": "code",
      "metadata": {
        "id": "TUCZijFi-mvC"
      },
      "source": [
        "import numpy as np"
      ],
      "execution_count": 53,
      "outputs": []
    },
    {
      "cell_type": "code",
      "metadata": {
        "id": "Px9d_bw09tQR"
      },
      "source": [
        "from numpy import array\n",
        "from keras.activations import sigmoid\n",
        "from keras.losses import mse"
      ],
      "execution_count": 54,
      "outputs": []
    },
    {
      "cell_type": "code",
      "metadata": {
        "id": "rOpVq90Dkfi5"
      },
      "source": [
        "inputSize=2\n",
        "outputSize=1\n",
        "hiddenSize=3\n",
        "\n",
        "W1=np.random.randn(inputSize, hiddenSize)\n",
        "W2=np.random.randn(hiddenSize, outputSize)"
      ],
      "execution_count": 55,
      "outputs": []
    },
    {
      "cell_type": "code",
      "metadata": {
        "colab": {
          "base_uri": "https://localhost:8080/"
        },
        "id": "hiiWqnH_lIqf",
        "outputId": "6e6eef99-d137-4cc2-f9ef-4199e5a9b8d0"
      },
      "source": [
        "W1"
      ],
      "execution_count": 56,
      "outputs": [
        {
          "output_type": "execute_result",
          "data": {
            "text/plain": [
              "array([[-0.79415273,  0.71501696, -0.28758262],\n",
              "       [-0.67050468,  0.99828321, -0.51794653]])"
            ]
          },
          "metadata": {},
          "execution_count": 56
        }
      ]
    },
    {
      "cell_type": "code",
      "metadata": {
        "colab": {
          "base_uri": "https://localhost:8080/"
        },
        "id": "MBuzBFrnlRZG",
        "outputId": "65ae8305-6cec-48f2-8b6f-5220f7b8503d"
      },
      "source": [
        "W2"
      ],
      "execution_count": 57,
      "outputs": [
        {
          "output_type": "execute_result",
          "data": {
            "text/plain": [
              "array([[-1.89522948],\n",
              "       [-0.44707443],\n",
              "       [ 0.84051955]])"
            ]
          },
          "metadata": {},
          "execution_count": 57
        }
      ]
    },
    {
      "cell_type": "code",
      "metadata": {
        "id": "a07A2a_u-cSf"
      },
      "source": [
        "y_true=np.array([0.3428])\n",
        "y_pred=np.array([0.909])"
      ],
      "execution_count": 58,
      "outputs": []
    },
    {
      "cell_type": "code",
      "metadata": {
        "id": "2Uf9wqCe_uBc"
      },
      "source": [
        "#k=mse(y_true,y_pred).numpy()\n",
        "#k"
      ],
      "execution_count": 59,
      "outputs": []
    },
    {
      "cell_type": "code",
      "metadata": {
        "colab": {
          "base_uri": "https://localhost:8080/"
        },
        "id": "ymJKkYKggbpW",
        "outputId": "a3be647e-e992-4415-c1b8-3197442dda2c"
      },
      "source": [
        "output_error=y_pred-y_true\n",
        "output_error"
      ],
      "execution_count": 60,
      "outputs": [
        {
          "output_type": "execute_result",
          "data": {
            "text/plain": [
              "array([0.5662])"
            ]
          },
          "metadata": {},
          "execution_count": 60
        }
      ]
    },
    {
      "cell_type": "code",
      "metadata": {
        "colab": {
          "base_uri": "https://localhost:8080/"
        },
        "id": "K0quOrMEgwh5",
        "outputId": "68e05020-97c9-454d-a49f-a1a728861284"
      },
      "source": [
        "output_delta=output_error*(y_true*(1-y_true))\n",
        "output_delta"
      ],
      "execution_count": 61,
      "outputs": [
        {
          "output_type": "execute_result",
          "data": {
            "text/plain": [
              "array([0.12755816])"
            ]
          },
          "metadata": {},
          "execution_count": 61
        }
      ]
    },
    {
      "cell_type": "code",
      "metadata": {
        "id": "KYXbqFuPj05N"
      },
      "source": [
        ""
      ],
      "execution_count": 61,
      "outputs": []
    }
  ]
}